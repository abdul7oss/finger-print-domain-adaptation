{
  "nbformat": 4,
  "nbformat_minor": 0,
  "metadata": {
    "colab": {
      "name": "Welcome To Colaboratory",
      "provenance": [],
      "collapsed_sections": []
    },
    "kernelspec": {
      "display_name": "Python 3",
      "name": "python3"
    },
    "accelerator": "GPU"
  },
  "cells": [
    {
      "cell_type": "code",
      "metadata": {
        "colab": {
          "base_uri": "https://localhost:8080/"
        },
        "id": "gJr_9dXGpJ05",
        "outputId": "b9e317e5-1925-40c2-db45-f22bdd56d442"
      },
      "source": [
        "!nvidia-smi\n"
      ],
      "execution_count": 1,
      "outputs": [
        {
          "output_type": "stream",
          "text": [
            "Tue Aug  3 02:56:46 2021       \n",
            "+-----------------------------------------------------------------------------+\n",
            "| NVIDIA-SMI 470.42.01    Driver Version: 460.32.03    CUDA Version: 11.2     |\n",
            "|-------------------------------+----------------------+----------------------+\n",
            "| GPU  Name        Persistence-M| Bus-Id        Disp.A | Volatile Uncorr. ECC |\n",
            "| Fan  Temp  Perf  Pwr:Usage/Cap|         Memory-Usage | GPU-Util  Compute M. |\n",
            "|                               |                      |               MIG M. |\n",
            "|===============================+======================+======================|\n",
            "|   0  Tesla T4            Off  | 00000000:00:04.0 Off |                    0 |\n",
            "| N/A   49C    P8    10W /  70W |      0MiB / 15109MiB |      0%      Default |\n",
            "|                               |                      |                  N/A |\n",
            "+-------------------------------+----------------------+----------------------+\n",
            "                                                                               \n",
            "+-----------------------------------------------------------------------------+\n",
            "| Processes:                                                                  |\n",
            "|  GPU   GI   CI        PID   Type   Process name                  GPU Memory |\n",
            "|        ID   ID                                                   Usage      |\n",
            "|=============================================================================|\n",
            "|  No running processes found                                                 |\n",
            "+-----------------------------------------------------------------------------+\n"
          ],
          "name": "stdout"
        }
      ]
    },
    {
      "cell_type": "code",
      "metadata": {
        "id": "r8QM94i0sWYX",
        "colab": {
          "base_uri": "https://localhost:8080/"
        },
        "outputId": "ee7b4fc0-95bc-43d6-bce0-deaef2cc49d7"
      },
      "source": [
        "from google.colab import drive\n",
        "drive.mount('/content/drive')"
      ],
      "execution_count": 2,
      "outputs": [
        {
          "output_type": "stream",
          "text": [
            "Mounted at /content/drive\n"
          ],
          "name": "stdout"
        }
      ]
    },
    {
      "cell_type": "code",
      "metadata": {
        "colab": {
          "base_uri": "https://localhost:8080/"
        },
        "id": "-gE-Ez1qtyIA",
        "outputId": "6ba9a01b-5a8f-4de6-eda6-0a09c7e42622"
      },
      "source": [
        "import subprocess\n",
        "passwd = \"HRF@POLYU\"\n",
        "file_name = \"/content/drive/MyDrive/polyu_hrf.zip\"\n",
        "output_path = \"/content/\"\n",
        "subprocess.call([\"7z\", \"x\", '-p{}'.format(passwd), file_name,\"-o\"+output_path])"
      ],
      "execution_count": 3,
      "outputs": [
        {
          "output_type": "execute_result",
          "data": {
            "text/plain": [
              "0"
            ]
          },
          "metadata": {
            "tags": []
          },
          "execution_count": 3
        }
      ]
    },
    {
      "cell_type": "code",
      "metadata": {
        "id": "sM1hK-yatGUu",
        "colab": {
          "base_uri": "https://localhost:8080/"
        },
        "outputId": "4e9fc702-22f1-4610-8602-df8eebcc483c"
      },
      "source": [
        "import subprocess\n",
        "passwd = \"HRF@IITI\"\n",
        "file_name = \"/content/drive/MyDrive/dataii/Data_IITI_HRF_Final.zip\"\n",
        "output_path = \"/content/\"\n",
        "subprocess.call([\"7z\", \"x\", '-p{}'.format(passwd), file_name,\"-o\"+output_path])"
      ],
      "execution_count": 4,
      "outputs": [
        {
          "output_type": "execute_result",
          "data": {
            "text/plain": [
              "0"
            ]
          },
          "metadata": {
            "tags": []
          },
          "execution_count": 4
        }
      ]
    },
    {
      "cell_type": "code",
      "metadata": {
        "id": "tGNZae9wtXyp",
        "colab": {
          "base_uri": "https://localhost:8080/"
        },
        "outputId": "a0a7d8ae-ce2e-4ddd-e259-f2fe54dd3c3a"
      },
      "source": [
        "pip install patool"
      ],
      "execution_count": 5,
      "outputs": [
        {
          "output_type": "stream",
          "text": [
            "Collecting patool\n",
            "  Downloading patool-1.12-py2.py3-none-any.whl (77 kB)\n",
            "\u001b[?25l\r\u001b[K     |████▎                           | 10 kB 31.5 MB/s eta 0:00:01\r\u001b[K     |████████▌                       | 20 kB 33.8 MB/s eta 0:00:01\r\u001b[K     |████████████▊                   | 30 kB 13.5 MB/s eta 0:00:01\r\u001b[K     |█████████████████               | 40 kB 16.0 MB/s eta 0:00:01\r\u001b[K     |█████████████████████▏          | 51 kB 9.0 MB/s eta 0:00:01\r\u001b[K     |█████████████████████████▍      | 61 kB 9.3 MB/s eta 0:00:01\r\u001b[K     |█████████████████████████████▋  | 71 kB 8.9 MB/s eta 0:00:01\r\u001b[K     |████████████████████████████████| 77 kB 3.9 MB/s \n",
            "\u001b[?25hInstalling collected packages: patool\n",
            "Successfully installed patool-1.12\n"
          ],
          "name": "stdout"
        }
      ]
    },
    {
      "cell_type": "code",
      "metadata": {
        "id": "UtRKp4QItSiN",
        "colab": {
          "base_uri": "https://localhost:8080/",
          "height": 102
        },
        "outputId": "24ebdc74-9363-4f41-d3e5-c007d56f0a2f"
      },
      "source": [
        "import patoolib\n",
        "patoolib.extract_archive(\"/content/Data_IITI_HRF_Final/IITI_HRFP_6400.rar\", outdir=\"/content/\")"
      ],
      "execution_count": 6,
      "outputs": [
        {
          "output_type": "stream",
          "text": [
            "patool: Extracting /content/Data_IITI_HRF_Final/IITI_HRFP_6400.rar ...\n",
            "patool: running /usr/bin/unrar x -- /content/Data_IITI_HRF_Final/IITI_HRFP_6400.rar\n",
            "patool:     with cwd='/content/'\n",
            "patool: ... /content/Data_IITI_HRF_Final/IITI_HRFP_6400.rar extracted to `/content/'.\n"
          ],
          "name": "stdout"
        },
        {
          "output_type": "execute_result",
          "data": {
            "application/vnd.google.colaboratory.intrinsic+json": {
              "type": "string"
            },
            "text/plain": [
              "'/content/'"
            ]
          },
          "metadata": {
            "tags": []
          },
          "execution_count": 6
        }
      ]
    },
    {
      "cell_type": "code",
      "metadata": {
        "id": "PPHWAVrNtdoo"
      },
      "source": [
        "a = list(range(1,186))\n",
        "a = [str(i) for i in a]\n",
        "a = [i+'_' for i in a]"
      ],
      "execution_count": 7,
      "outputs": []
    },
    {
      "cell_type": "code",
      "metadata": {
        "id": "S-zBvsJmtgud"
      },
      "source": [
        "from shutil import copyfile\n",
        "import os\n",
        "for j in a:\n",
        "  for i in os.listdir('/content/Final_partial_6400'):\n",
        "    if i.startswith(j):\n",
        "      copyfile('/content/Final_partial_6400/'+ str(i), '/content/Dom1/' + str(i))\n",
        "    else:\n",
        "      continue"
      ],
      "execution_count": 8,
      "outputs": []
    },
    {
      "cell_type": "code",
      "metadata": {
        "id": "BRkDDPYotvyB",
        "colab": {
          "base_uri": "https://localhost:8080/"
        },
        "outputId": "a9153f0e-348a-41d2-f911-8c51be11c13d"
      },
      "source": [
        "len(os.listdir('/content/Dom1'))"
      ],
      "execution_count": 9,
      "outputs": [
        {
          "output_type": "execute_result",
          "data": {
            "text/plain": [
              "1480"
            ]
          },
          "metadata": {
            "tags": []
          },
          "execution_count": 9
        }
      ]
    },
    {
      "cell_type": "code",
      "metadata": {
        "id": "qAAg43h78y68"
      },
      "source": [
        "%tensorflow_version 1.x\n",
        "python train.py --save_folder=/content/drive/MyDrive/save --datadirb1=/content/Dom1 --datadirb2=/content/polyu_hrf/DBI/Test "
      ],
      "execution_count": null,
      "outputs": []
    }
  ]
}